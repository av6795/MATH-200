{
  "nbformat": 4,
  "nbformat_minor": 0,
  "metadata": {
    "colab": {
      "provenance": [],
      "include_colab_link": true
    },
    "kernelspec": {
      "name": "python3",
      "display_name": "Python 3"
    },
    "language_info": {
      "name": "python"
    }
  },
  "cells": [
    {
      "cell_type": "markdown",
      "metadata": {
        "id": "view-in-github",
        "colab_type": "text"
      },
      "source": [
        "<a href=\"https://colab.research.google.com/github/av6795/MATH-200/blob/main/Weekly_Expenses_Project.ipynb\" target=\"_parent\"><img src=\"https://colab.research.google.com/assets/colab-badge.svg\" alt=\"Open In Colab\"/></a>"
      ]
    },
    {
      "cell_type": "markdown",
      "source": [
        "### **Weekly Expenses Project**\n",
        "\n"
      ],
      "metadata": {
        "id": "nkjyCylH7XUc"
      }
    },
    {
      "cell_type": "code",
      "execution_count": 26,
      "metadata": {
        "id": "dLRrECDC7SHo"
      },
      "outputs": [],
      "source": [
        "import pandas as pd"
      ]
    },
    {
      "cell_type": "code",
      "source": [
        "# Read in you weekly expenses dataset (Make sure it is a csv file)\n",
        "link = 'https://raw.githubusercontent.com/av6795/MATH-200/main/Weekly%20Expenses_Andrea_Villatoro%20-%20Sheet1%20(2).csv'\n",
        "df=pd.read_csv(link)\n",
        "df"
      ],
      "metadata": {
        "id": "by3dUpXa8Ad7",
        "outputId": "87861334-bac1-495e-e0b2-102db5dac16c",
        "colab": {
          "base_uri": "https://localhost:8080/",
          "height": 519
        }
      },
      "execution_count": 3,
      "outputs": [
        {
          "output_type": "execute_result",
          "data": {
            "text/plain": [
              "   Unnamed: 0 Day of the Week  Amount       Description  \\\n",
              "0        Date          Friday       8          smoothie   \n",
              "1      20-Jan        Saturday      16             tacos   \n",
              "2      21-Jan        saturday     150         groceries   \n",
              "3      21-Jan          Monday      50          medicine   \n",
              "4      22-Jan       Wednesday      30               Gas   \n",
              "5      25-Jan       Wednesday      13             Lunch   \n",
              "6      25-Jan        Thursday      21             Lunch   \n",
              "7      26-Jan        Thursday      60          Pet Food   \n",
              "8      26-Jan          Sunday      40               Gas   \n",
              "9      29-Jan          Sunday     100         Groceries   \n",
              "10     29-Jan         Tuesday      27        Misc Items   \n",
              "11     31-Jan         Tuesday      61      Misc Produce   \n",
              "12     31-Jan         Tuesday     130  Wifi/Phone/Cable   \n",
              "13     31-Jan         Tuesday      50    Cosmetic Items   \n",
              "14      1-Feb       Wednesday      12             lunch   \n",
              "\n",
              "                       Category  Method of Payment  \n",
              "0                           Food             Debit  \n",
              "1                           Food             Debit  \n",
              "2                           Food             Debit  \n",
              "3                      Medicine               Cash  \n",
              "4                         Travel             Debit  \n",
              "5                           Food             Debit  \n",
              "6                           Food             Debit  \n",
              "7                           Food             Debit  \n",
              "8                         Travel              Cash  \n",
              "9                           Food              Cash  \n",
              "10  Entertainment and Recreation              Cash  \n",
              "11                          Food             Debit  \n",
              "12  Entertainment and Recreation             Debit  \n",
              "13  Entertainment and Recreation             Debit  \n",
              "14                          Food             Debit  "
            ],
            "text/html": [
              "\n",
              "  <div id=\"df-6cf242ce-c827-49fb-b2d8-5429f7af7338\">\n",
              "    <div class=\"colab-df-container\">\n",
              "      <div>\n",
              "<style scoped>\n",
              "    .dataframe tbody tr th:only-of-type {\n",
              "        vertical-align: middle;\n",
              "    }\n",
              "\n",
              "    .dataframe tbody tr th {\n",
              "        vertical-align: top;\n",
              "    }\n",
              "\n",
              "    .dataframe thead th {\n",
              "        text-align: right;\n",
              "    }\n",
              "</style>\n",
              "<table border=\"1\" class=\"dataframe\">\n",
              "  <thead>\n",
              "    <tr style=\"text-align: right;\">\n",
              "      <th></th>\n",
              "      <th>Unnamed: 0</th>\n",
              "      <th>Day of the Week</th>\n",
              "      <th>Amount</th>\n",
              "      <th>Description</th>\n",
              "      <th>Category</th>\n",
              "      <th>Method of Payment</th>\n",
              "    </tr>\n",
              "  </thead>\n",
              "  <tbody>\n",
              "    <tr>\n",
              "      <th>0</th>\n",
              "      <td>Date</td>\n",
              "      <td>Friday</td>\n",
              "      <td>8</td>\n",
              "      <td>smoothie</td>\n",
              "      <td>Food</td>\n",
              "      <td>Debit</td>\n",
              "    </tr>\n",
              "    <tr>\n",
              "      <th>1</th>\n",
              "      <td>20-Jan</td>\n",
              "      <td>Saturday</td>\n",
              "      <td>16</td>\n",
              "      <td>tacos</td>\n",
              "      <td>Food</td>\n",
              "      <td>Debit</td>\n",
              "    </tr>\n",
              "    <tr>\n",
              "      <th>2</th>\n",
              "      <td>21-Jan</td>\n",
              "      <td>saturday</td>\n",
              "      <td>150</td>\n",
              "      <td>groceries</td>\n",
              "      <td>Food</td>\n",
              "      <td>Debit</td>\n",
              "    </tr>\n",
              "    <tr>\n",
              "      <th>3</th>\n",
              "      <td>21-Jan</td>\n",
              "      <td>Monday</td>\n",
              "      <td>50</td>\n",
              "      <td>medicine</td>\n",
              "      <td>Medicine</td>\n",
              "      <td>Cash</td>\n",
              "    </tr>\n",
              "    <tr>\n",
              "      <th>4</th>\n",
              "      <td>22-Jan</td>\n",
              "      <td>Wednesday</td>\n",
              "      <td>30</td>\n",
              "      <td>Gas</td>\n",
              "      <td>Travel</td>\n",
              "      <td>Debit</td>\n",
              "    </tr>\n",
              "    <tr>\n",
              "      <th>5</th>\n",
              "      <td>25-Jan</td>\n",
              "      <td>Wednesday</td>\n",
              "      <td>13</td>\n",
              "      <td>Lunch</td>\n",
              "      <td>Food</td>\n",
              "      <td>Debit</td>\n",
              "    </tr>\n",
              "    <tr>\n",
              "      <th>6</th>\n",
              "      <td>25-Jan</td>\n",
              "      <td>Thursday</td>\n",
              "      <td>21</td>\n",
              "      <td>Lunch</td>\n",
              "      <td>Food</td>\n",
              "      <td>Debit</td>\n",
              "    </tr>\n",
              "    <tr>\n",
              "      <th>7</th>\n",
              "      <td>26-Jan</td>\n",
              "      <td>Thursday</td>\n",
              "      <td>60</td>\n",
              "      <td>Pet Food</td>\n",
              "      <td>Food</td>\n",
              "      <td>Debit</td>\n",
              "    </tr>\n",
              "    <tr>\n",
              "      <th>8</th>\n",
              "      <td>26-Jan</td>\n",
              "      <td>Sunday</td>\n",
              "      <td>40</td>\n",
              "      <td>Gas</td>\n",
              "      <td>Travel</td>\n",
              "      <td>Cash</td>\n",
              "    </tr>\n",
              "    <tr>\n",
              "      <th>9</th>\n",
              "      <td>29-Jan</td>\n",
              "      <td>Sunday</td>\n",
              "      <td>100</td>\n",
              "      <td>Groceries</td>\n",
              "      <td>Food</td>\n",
              "      <td>Cash</td>\n",
              "    </tr>\n",
              "    <tr>\n",
              "      <th>10</th>\n",
              "      <td>29-Jan</td>\n",
              "      <td>Tuesday</td>\n",
              "      <td>27</td>\n",
              "      <td>Misc Items</td>\n",
              "      <td>Entertainment and Recreation</td>\n",
              "      <td>Cash</td>\n",
              "    </tr>\n",
              "    <tr>\n",
              "      <th>11</th>\n",
              "      <td>31-Jan</td>\n",
              "      <td>Tuesday</td>\n",
              "      <td>61</td>\n",
              "      <td>Misc Produce</td>\n",
              "      <td>Food</td>\n",
              "      <td>Debit</td>\n",
              "    </tr>\n",
              "    <tr>\n",
              "      <th>12</th>\n",
              "      <td>31-Jan</td>\n",
              "      <td>Tuesday</td>\n",
              "      <td>130</td>\n",
              "      <td>Wifi/Phone/Cable</td>\n",
              "      <td>Entertainment and Recreation</td>\n",
              "      <td>Debit</td>\n",
              "    </tr>\n",
              "    <tr>\n",
              "      <th>13</th>\n",
              "      <td>31-Jan</td>\n",
              "      <td>Tuesday</td>\n",
              "      <td>50</td>\n",
              "      <td>Cosmetic Items</td>\n",
              "      <td>Entertainment and Recreation</td>\n",
              "      <td>Debit</td>\n",
              "    </tr>\n",
              "    <tr>\n",
              "      <th>14</th>\n",
              "      <td>1-Feb</td>\n",
              "      <td>Wednesday</td>\n",
              "      <td>12</td>\n",
              "      <td>lunch</td>\n",
              "      <td>Food</td>\n",
              "      <td>Debit</td>\n",
              "    </tr>\n",
              "  </tbody>\n",
              "</table>\n",
              "</div>\n",
              "      <button class=\"colab-df-convert\" onclick=\"convertToInteractive('df-6cf242ce-c827-49fb-b2d8-5429f7af7338')\"\n",
              "              title=\"Convert this dataframe to an interactive table.\"\n",
              "              style=\"display:none;\">\n",
              "        \n",
              "  <svg xmlns=\"http://www.w3.org/2000/svg\" height=\"24px\"viewBox=\"0 0 24 24\"\n",
              "       width=\"24px\">\n",
              "    <path d=\"M0 0h24v24H0V0z\" fill=\"none\"/>\n",
              "    <path d=\"M18.56 5.44l.94 2.06.94-2.06 2.06-.94-2.06-.94-.94-2.06-.94 2.06-2.06.94zm-11 1L8.5 8.5l.94-2.06 2.06-.94-2.06-.94L8.5 2.5l-.94 2.06-2.06.94zm10 10l.94 2.06.94-2.06 2.06-.94-2.06-.94-.94-2.06-.94 2.06-2.06.94z\"/><path d=\"M17.41 7.96l-1.37-1.37c-.4-.4-.92-.59-1.43-.59-.52 0-1.04.2-1.43.59L10.3 9.45l-7.72 7.72c-.78.78-.78 2.05 0 2.83L4 21.41c.39.39.9.59 1.41.59.51 0 1.02-.2 1.41-.59l7.78-7.78 2.81-2.81c.8-.78.8-2.07 0-2.86zM5.41 20L4 18.59l7.72-7.72 1.47 1.35L5.41 20z\"/>\n",
              "  </svg>\n",
              "      </button>\n",
              "      \n",
              "  <style>\n",
              "    .colab-df-container {\n",
              "      display:flex;\n",
              "      flex-wrap:wrap;\n",
              "      gap: 12px;\n",
              "    }\n",
              "\n",
              "    .colab-df-convert {\n",
              "      background-color: #E8F0FE;\n",
              "      border: none;\n",
              "      border-radius: 50%;\n",
              "      cursor: pointer;\n",
              "      display: none;\n",
              "      fill: #1967D2;\n",
              "      height: 32px;\n",
              "      padding: 0 0 0 0;\n",
              "      width: 32px;\n",
              "    }\n",
              "\n",
              "    .colab-df-convert:hover {\n",
              "      background-color: #E2EBFA;\n",
              "      box-shadow: 0px 1px 2px rgba(60, 64, 67, 0.3), 0px 1px 3px 1px rgba(60, 64, 67, 0.15);\n",
              "      fill: #174EA6;\n",
              "    }\n",
              "\n",
              "    [theme=dark] .colab-df-convert {\n",
              "      background-color: #3B4455;\n",
              "      fill: #D2E3FC;\n",
              "    }\n",
              "\n",
              "    [theme=dark] .colab-df-convert:hover {\n",
              "      background-color: #434B5C;\n",
              "      box-shadow: 0px 1px 3px 1px rgba(0, 0, 0, 0.15);\n",
              "      filter: drop-shadow(0px 1px 2px rgba(0, 0, 0, 0.3));\n",
              "      fill: #FFFFFF;\n",
              "    }\n",
              "  </style>\n",
              "\n",
              "      <script>\n",
              "        const buttonEl =\n",
              "          document.querySelector('#df-6cf242ce-c827-49fb-b2d8-5429f7af7338 button.colab-df-convert');\n",
              "        buttonEl.style.display =\n",
              "          google.colab.kernel.accessAllowed ? 'block' : 'none';\n",
              "\n",
              "        async function convertToInteractive(key) {\n",
              "          const element = document.querySelector('#df-6cf242ce-c827-49fb-b2d8-5429f7af7338');\n",
              "          const dataTable =\n",
              "            await google.colab.kernel.invokeFunction('convertToInteractive',\n",
              "                                                     [key], {});\n",
              "          if (!dataTable) return;\n",
              "\n",
              "          const docLinkHtml = 'Like what you see? Visit the ' +\n",
              "            '<a target=\"_blank\" href=https://colab.research.google.com/notebooks/data_table.ipynb>data table notebook</a>'\n",
              "            + ' to learn more about interactive tables.';\n",
              "          element.innerHTML = '';\n",
              "          dataTable['output_type'] = 'display_data';\n",
              "          await google.colab.output.renderOutput(dataTable, element);\n",
              "          const docLink = document.createElement('div');\n",
              "          docLink.innerHTML = docLinkHtml;\n",
              "          element.appendChild(docLink);\n",
              "        }\n",
              "      </script>\n",
              "    </div>\n",
              "  </div>\n",
              "  "
            ]
          },
          "metadata": {},
          "execution_count": 3
        }
      ]
    },
    {
      "cell_type": "markdown",
      "source": [],
      "metadata": {
        "id": "Hm_T9LRs9d-k"
      }
    },
    {
      "cell_type": "code",
      "source": [
        "df['Day of the Week'].value_counts(normalize=True).round(2)"
      ],
      "metadata": {
        "id": "6uM86Cz29zml",
        "outputId": "9e16f8e7-0c3d-4a62-d0b5-96d82a779b40",
        "colab": {
          "base_uri": "https://localhost:8080/"
        }
      },
      "execution_count": 7,
      "outputs": [
        {
          "output_type": "execute_result",
          "data": {
            "text/plain": [
              "Tuesday      0.27\n",
              "Wednesday    0.20\n",
              "Thursday     0.13\n",
              "Sunday       0.13\n",
              "Friday       0.07\n",
              "Saturday     0.07\n",
              "saturday     0.07\n",
              "Monday       0.07\n",
              "Name: Day of the Week, dtype: float64"
            ]
          },
          "metadata": {},
          "execution_count": 7
        }
      ]
    },
    {
      "cell_type": "code",
      "source": [
        "df['Day of the Week'].value_counts(normalize=True).round(2).plot(kind='pie')"
      ],
      "metadata": {
        "id": "gDS726aS-jRI",
        "outputId": "c397ef02-b0e7-440b-f9bb-61dacec70a33",
        "colab": {
          "base_uri": "https://localhost:8080/",
          "height": 265
        }
      },
      "execution_count": 8,
      "outputs": [
        {
          "output_type": "execute_result",
          "data": {
            "text/plain": [
              "<matplotlib.axes._subplots.AxesSubplot at 0x7f4e2b9d51c0>"
            ]
          },
          "metadata": {},
          "execution_count": 8
        },
        {
          "output_type": "display_data",
          "data": {
            "text/plain": [
              "<Figure size 432x288 with 1 Axes>"
            ],
            "image/png": "[encoded data removed]"
          },
          "metadata": {}
        }
      ]
    },
    {
      "cell_type": "code",
      "source": [
        "df['Category '].value_counts()"
      ],
      "metadata": {
        "id": "ox83GsP6_4eP",
        "outputId": "6ed5e0ac-aa45-4de7-d03c-d7e92f90b4d8",
        "colab": {
          "base_uri": "https://localhost:8080/"
        }
      },
      "execution_count": 14,
      "outputs": [
        {
          "output_type": "execute_result",
          "data": {
            "text/plain": [
              "Food                            9\n",
              "Entertainment and Recreation    3\n",
              "Travel                          2\n",
              "Medicine                        1\n",
              "Name: Category , dtype: int64"
            ]
          },
          "metadata": {},
          "execution_count": 14
        }
      ]
    },
    {
      "cell_type": "code",
      "source": [
        "df['Category '].value_counts(normalize=True).plot(kind='barh')"
      ],
      "metadata": {
        "id": "DZYdyKM_CeXk",
        "outputId": "c060c39a-893b-461e-c50a-34e4880bbae7",
        "colab": {
          "base_uri": "https://localhost:8080/",
          "height": 282
        }
      },
      "execution_count": 16,
      "outputs": [
        {
          "output_type": "execute_result",
          "data": {
            "text/plain": [
              "<matplotlib.axes._subplots.AxesSubplot at 0x7f4e2b2fa940>"
            ]
          },
          "metadata": {},
          "execution_count": 16
        },
        {
          "output_type": "display_data",
          "data": {
            "text/plain": [
              "<Figure size 432x288 with 1 Axes>"
            ],
            "image/png": "[encoded data removed]"
          },
          "metadata": {
            "needs_background": "light"
          }
        }
      ]
    },
    {
      "cell_type": "code",
      "source": [
        "df['Method of Payment'].value_counts(normalize=True).round(2)"
      ],
      "metadata": {
        "id": "I2tbGPCWC96h",
        "outputId": "68cd7a7d-37b5-482e-b081-fa2e2d90ece0",
        "colab": {
          "base_uri": "https://localhost:8080/"
        }
      },
      "execution_count": 31,
      "outputs": [
        {
          "output_type": "execute_result",
          "data": {
            "text/plain": [
              "Debit    0.73\n",
              "Cash     0.27\n",
              "Name: Method of Payment, dtype: float64"
            ]
          },
          "metadata": {},
          "execution_count": 31
        }
      ]
    },
    {
      "cell_type": "code",
      "source": [],
      "metadata": {
        "id": "-Ywh3yT_Gn5S"
      },
      "execution_count": null,
      "outputs": []
    }
  ]
}